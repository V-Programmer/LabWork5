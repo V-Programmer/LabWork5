{
 "cells": [
  {
   "cell_type": "code",
   "execution_count": null,
   "id": "55690920",
   "metadata": {},
   "outputs": [],
   "source": [
    "import sys\n",
    "import numpy as np\n",
    "import cv2 as cv\n",
    "hsv_min = np.array((102,30,30), np.uint8)\n",
    "hsv_max = np.array((150,255,255), np.uint8)\n",
    "# параметры цветового фильтра\n",
    "#hsv_min = np.array((207,59,94), np.uint8)\n",
    "#hsv_max = np.array((209,59,100), np.uint8)\n",
    "\n",
    "img = cv.imread('orange.jpg')\n",
    "\n",
    "hsv = cv.cvtColor( img, cv.COLOR_BGR2HSV )\n",
    "thresh = cv.inRange( hsv, hsv_min, hsv_max )\n",
    "\n",
    "contours, hierarchy = cv.findContours( thresh.copy(), cv.RETR_TREE, cv.CHAIN_APPROX_SIMPLE)\n",
    "\n",
    "\n",
    "cv.drawContours( img, contours, -1, (0,255,0), 1, cv.LINE_AA, hierarchy, 1 )\n",
    "cv.imshow('contours', img)\n",
    "\n",
    "cv.waitKey()\n",
    "cv.destroyAllWindows()"
   ]
  },
  {
   "cell_type": "code",
   "execution_count": null,
   "id": "ed7aab6c",
   "metadata": {},
   "outputs": [],
   "source": []
  },
  {
   "cell_type": "code",
   "execution_count": null,
   "id": "34bed33d",
   "metadata": {},
   "outputs": [],
   "source": []
  }
 ],
 "metadata": {
  "kernelspec": {
   "display_name": "Python 3 (ipykernel)",
   "language": "python",
   "name": "python3"
  },
  "language_info": {
   "codemirror_mode": {
    "name": "ipython",
    "version": 3
   },
   "file_extension": ".py",
   "mimetype": "text/x-python",
   "name": "python",
   "nbconvert_exporter": "python",
   "pygments_lexer": "ipython3",
   "version": "3.11.4"
  }
 },
 "nbformat": 4,
 "nbformat_minor": 5
}
